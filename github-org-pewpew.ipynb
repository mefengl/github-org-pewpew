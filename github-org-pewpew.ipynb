{
 "cells": [
  {
   "cell_type": "code",
   "execution_count": null,
   "metadata": {},
   "outputs": [],
   "source": [
    "%pip install PyGithub ipywidgets\n"
   ]
  },
  {
   "cell_type": "code",
   "execution_count": null,
   "metadata": {},
   "outputs": [],
   "source": [
    "from github import Github\n",
    "from ipywidgets import interact_manual, SelectMultiple, Checkbox\n",
    "from getpass import getpass\n",
    "from IPython.display import clear_output\n",
    "\n",
    "\n",
    "def display_org_deleter():\n",
    "    # Insert your token here\n",
    "    token = getpass('Enter your GitHub token: ')\n",
    "\n",
    "    # First create a Github instance:\n",
    "    g = Github(token)\n",
    "\n",
    "    # Get organizations\n",
    "    orgs = g.get_user().get_orgs()\n",
    "    org_names = [org.login for org in orgs]\n",
    "\n",
    "    def delete_org(org_names, confirm_delete):\n",
    "        for org_name in org_names:\n",
    "            org = g.get_organization(org_name)\n",
    "\n",
    "            if org.public_repos > 0 and not confirm_delete:\n",
    "                print(\n",
    "                    f\"The organization {org_name} has public repositories. Please confirm deletion.\")\n",
    "                return\n",
    "\n",
    "            # PyGithub does not support deleting an organization directly.\n",
    "            # However, you can use the following workaround to delete an organization:\n",
    "            org._requester.requestJsonAndCheck(\n",
    "                \"DELETE\",\n",
    "                org.url,\n",
    "            )\n",
    "\n",
    "            print(\n",
    "                f\"The organization {org_name} has been deleted successfully.\")\n",
    "\n",
    "        # Clear output and display widget again\n",
    "        clear_output(wait=True)\n",
    "        display_org_deleter()\n",
    "\n",
    "    interact_widget = interact_manual(delete_org, org_names=SelectMultiple(\n",
    "        options=org_names), confirm_delete=Checkbox(description='Confirm deletion'))\n",
    "    return interact_widget.widget\n",
    "\n",
    "\n",
    "display(display_org_deleter())\n"
   ]
  }
 ],
 "metadata": {
  "kernelspec": {
   "display_name": "Python 3",
   "language": "python",
   "name": "python3"
  },
  "language_info": {
   "codemirror_mode": {
    "name": "ipython",
    "version": 3
   },
   "file_extension": ".py",
   "mimetype": "text/x-python",
   "name": "python",
   "nbconvert_exporter": "python",
   "pygments_lexer": "ipython3",
   "version": "3.10.10"
  },
  "orig_nbformat": 4
 },
 "nbformat": 4,
 "nbformat_minor": 2
}
